{
 "cells": [
  {
   "cell_type": "code",
   "execution_count": 15,
   "id": "6321dfef-e9c9-4c2f-9cf7-9d5c482808cf",
   "metadata": {},
   "outputs": [
    {
     "data": {
      "text/plain": [
       "222"
      ]
     },
     "execution_count": 15,
     "metadata": {},
     "output_type": "execute_result"
    }
   ],
   "source": [
    "import pandas as pd\n",
    "from transformers import AutoTokenizer, AutoModelForSequenceClassification\n",
    "from transformers import BertTokenizer, BertForSequenceClassification\n",
    "import torch\n",
    "\n",
    "\n",
    "\n",
    "\n",
    "\n",
    "\n",
    "\n",
    "# Load the CSV file into a DataFrame\n",
    "path = \"PREPARE_Datasets_Hatebase/\"\n",
    "\n",
    "\n",
    "#file_path = path + \"FINAL_IMSyPP_EN_644_PREPROCESSED_no_restricted_videos_features_2ktoken_w_prompt_u_desc_audio_object.xlsx\" #path + \"IMSyPP_EN_YouTube_comments_evaluation_context_PREPROCESSED_no_restricted_videos_1000.csv\" #'stitch_mit_dataset_example.csv  # Update this path to the actual file location\n",
    "\n",
    "file_path = \"used_rows_for_evaluation_with_GPT35T.xlsx\" #path + \"FINAL_IMSyPP_EN_561_PREPROCESSED_no_restricted_videos_features_2ktoken_w_prompt_u_desc_audio_object_with_video_and_reply_metadata_no_missing.xlsx\" #path + \"IMSyPP_EN_YouTube_comments_evaluation_context_PREPROCESSED_no_restricted_videos_1000.csv\" #'stitch_mit_dataset_example.csv  # Update this path to the actual file location\n",
    "\n",
    "#file_path = \"used_rows_for_evaluation_1517_FINAL.csv\"\n",
    "\n",
    "df = pd.read_excel(file_path)\n",
    "df_gt = df.copy()\n",
    "len(df)"
   ]
  },
  {
   "cell_type": "code",
   "execution_count": 5,
   "id": "64f80cea-f6b4-472d-abb1-7936f2f35dce",
   "metadata": {},
   "outputs": [
    {
     "data": {
      "text/plain": [
       "type_reply\n",
       "appropriate      928\n",
       "offensive        273\n",
       "inappropriate      8\n",
       "violent            3\n",
       "Name: count, dtype: int64"
      ]
     },
     "execution_count": 5,
     "metadata": {},
     "output_type": "execute_result"
    }
   ],
   "source": [
    "\n",
    "\n",
    "df['type_reply'].value_counts()\n"
   ]
  },
  {
   "cell_type": "code",
   "execution_count": 6,
   "id": "2d05cd63-d94f-417c-afca-2468378e7b41",
   "metadata": {},
   "outputs": [],
   "source": [
    "# Load the model and tokenizer\n",
    "model_name = \"IMSyPP/hate_speech_en\"\n",
    "tokenizer = BertTokenizer.from_pretrained(model_name)\n",
    "model = BertForSequenceClassification.from_pretrained(model_name)\n",
    "\n",
    "# Make sure the model is in evaluation mode\n",
    "model.eval()\n",
    "\n",
    "# Function for classifying a single text input\n",
    "def classify_text(text):\n",
    "    # Tokenize the input text\n",
    "    inputs = tokenizer(text, return_tensors=\"pt\", truncation=True, padding=True, max_length=512)\n",
    "    \n",
    "    # Perform inference\n",
    "    with torch.no_grad():\n",
    "        outputs = model(**inputs)\n",
    "    \n",
    "    # Get the predicted class label\n",
    "    logits = outputs.logits\n",
    "    predicted_class = torch.argmax(logits, dim=1).item()\n",
    "    \n",
    "    return predicted_class"
   ]
  },
  {
   "cell_type": "code",
   "execution_count": 7,
   "id": "ce1b9229-5825-41b3-b40b-2621b020d33c",
   "metadata": {},
   "outputs": [
    {
     "data": {
      "text/html": [
       "<div>\n",
       "<style scoped>\n",
       "    .dataframe tbody tr th:only-of-type {\n",
       "        vertical-align: middle;\n",
       "    }\n",
       "\n",
       "    .dataframe tbody tr th {\n",
       "        vertical-align: top;\n",
       "    }\n",
       "\n",
       "    .dataframe thead th {\n",
       "        text-align: right;\n",
       "    }\n",
       "</style>\n",
       "<table border=\"1\" class=\"dataframe\">\n",
       "  <thead>\n",
       "    <tr style=\"text-align: right;\">\n",
       "      <th></th>\n",
       "      <th>Unnamed: 0</th>\n",
       "      <th>video_id</th>\n",
       "      <th>comment_id</th>\n",
       "      <th>target</th>\n",
       "      <th>annotator</th>\n",
       "      <th>...</th>\n",
       "      <th>type_reply</th>\n",
       "      <th>target_reply</th>\n",
       "      <th>reply_id</th>\n",
       "      <th>target.1</th>\n",
       "      <th>predicted_class</th>\n",
       "    </tr>\n",
       "  </thead>\n",
       "  <tbody>\n",
       "    <tr>\n",
       "      <th>0</th>\n",
       "      <td>0</td>\n",
       "      <td>NaN</td>\n",
       "      <td>Ugw3h-Rft03GK0sQyoB4AaABAg</td>\n",
       "      <td>NaN</td>\n",
       "      <td>HA</td>\n",
       "      <td>...</td>\n",
       "      <td>appropriate</td>\n",
       "      <td>NaN</td>\n",
       "      <td>Ugw3h-Rft03GK0sQyoB4AaABAg.98MssOlE_zD98YOv6q7jxC</td>\n",
       "      <td>NaN</td>\n",
       "      <td>0</td>\n",
       "    </tr>\n",
       "    <tr>\n",
       "      <th>1</th>\n",
       "      <td>2</td>\n",
       "      <td>NaN</td>\n",
       "      <td>UgwcIWd1Fw4UGiyHQZl4AaABAg</td>\n",
       "      <td>NaN</td>\n",
       "      <td>HA</td>\n",
       "      <td>...</td>\n",
       "      <td>offensive</td>\n",
       "      <td>12. other</td>\n",
       "      <td>UgwcIWd1Fw4UGiyHQZl4AaABAg.98VmXXgKlbv98h-fsKmNVE</td>\n",
       "      <td>NaN</td>\n",
       "      <td>0</td>\n",
       "    </tr>\n",
       "    <tr>\n",
       "      <th>2</th>\n",
       "      <td>3</td>\n",
       "      <td>NaN</td>\n",
       "      <td>UgwGH3n9-kMziH6MHJJ4AaABAg</td>\n",
       "      <td>5. religion</td>\n",
       "      <td>HA</td>\n",
       "      <td>...</td>\n",
       "      <td>appropriate</td>\n",
       "      <td>NaN</td>\n",
       "      <td>UgwGH3n9-kMziH6MHJJ4AaABAg.98eCDJk381J98eCyDSbc_6</td>\n",
       "      <td>5. religion</td>\n",
       "      <td>2</td>\n",
       "    </tr>\n",
       "    <tr>\n",
       "      <th>3</th>\n",
       "      <td>5</td>\n",
       "      <td>NaN</td>\n",
       "      <td>UgwL9uf1fl_LfsuMcxt4AaABAg</td>\n",
       "      <td>NaN</td>\n",
       "      <td>HA</td>\n",
       "      <td>...</td>\n",
       "      <td>offensive</td>\n",
       "      <td>4. antisemitism</td>\n",
       "      <td>UgwL9uf1fl_LfsuMcxt4AaABAg.98_JpvVTnup98xY_oefc7G</td>\n",
       "      <td>NaN</td>\n",
       "      <td>2</td>\n",
       "    </tr>\n",
       "    <tr>\n",
       "      <th>4</th>\n",
       "      <td>6</td>\n",
       "      <td>NaN</td>\n",
       "      <td>UgwlmDegdyuISJMwadp4AaABAg</td>\n",
       "      <td>NaN</td>\n",
       "      <td>HA</td>\n",
       "      <td>...</td>\n",
       "      <td>offensive</td>\n",
       "      <td>4. antisemitism</td>\n",
       "      <td>UgwlmDegdyuISJMwadp4AaABAg.98PgBjc6PgS98tEgARWsAO</td>\n",
       "      <td>NaN</td>\n",
       "      <td>2</td>\n",
       "    </tr>\n",
       "    <tr>\n",
       "      <th>...</th>\n",
       "      <td>...</td>\n",
       "      <td>...</td>\n",
       "      <td>...</td>\n",
       "      <td>...</td>\n",
       "      <td>...</td>\n",
       "      <td>...</td>\n",
       "      <td>...</td>\n",
       "      <td>...</td>\n",
       "      <td>...</td>\n",
       "      <td>...</td>\n",
       "      <td>...</td>\n",
       "    </tr>\n",
       "    <tr>\n",
       "      <th>1207</th>\n",
       "      <td>1510</td>\n",
       "      <td>98zqHfGhM7A</td>\n",
       "      <td>UgzbueTCliJIBSJbvbd4AaABAg</td>\n",
       "      <td>NaN</td>\n",
       "      <td>PP</td>\n",
       "      <td>...</td>\n",
       "      <td>appropriate</td>\n",
       "      <td>NaN</td>\n",
       "      <td>UgzbueTCliJIBSJbvbd4AaABAg.98E1WpTbw6998E6OZoCtCN</td>\n",
       "      <td>NaN</td>\n",
       "      <td>0</td>\n",
       "    </tr>\n",
       "    <tr>\n",
       "      <th>1208</th>\n",
       "      <td>1512</td>\n",
       "      <td>98zqHfGhM7A</td>\n",
       "      <td>UgzOTAFni3o7UW1b71p4AaABAg</td>\n",
       "      <td>10. politics</td>\n",
       "      <td>PP</td>\n",
       "      <td>...</td>\n",
       "      <td>offensive</td>\n",
       "      <td>11. individual</td>\n",
       "      <td>UgzOTAFni3o7UW1b71p4AaABAg.98DyKQJ4Vgq98V1kvB0-nY</td>\n",
       "      <td>10. politics</td>\n",
       "      <td>2</td>\n",
       "    </tr>\n",
       "    <tr>\n",
       "      <th>1209</th>\n",
       "      <td>1513</td>\n",
       "      <td>98zqHfGhM7A</td>\n",
       "      <td>UgzTeEAW3ZrQ2c4dwDZ4AaABAg</td>\n",
       "      <td>10. politics</td>\n",
       "      <td>PP</td>\n",
       "      <td>...</td>\n",
       "      <td>offensive</td>\n",
       "      <td>10. politics</td>\n",
       "      <td>UgzTeEAW3ZrQ2c4dwDZ4AaABAg.98EHx_DfZHC98Hz4iLaiyn</td>\n",
       "      <td>10. politics</td>\n",
       "      <td>2</td>\n",
       "    </tr>\n",
       "    <tr>\n",
       "      <th>1210</th>\n",
       "      <td>1514</td>\n",
       "      <td>98zqHfGhM7A</td>\n",
       "      <td>UgztSHHRdIBAVga82yJ4AaABAg</td>\n",
       "      <td>NaN</td>\n",
       "      <td>PP</td>\n",
       "      <td>...</td>\n",
       "      <td>appropriate</td>\n",
       "      <td>NaN</td>\n",
       "      <td>UgztSHHRdIBAVga82yJ4AaABAg.98FgQdv8t5r98FldH9ZVls</td>\n",
       "      <td>NaN</td>\n",
       "      <td>0</td>\n",
       "    </tr>\n",
       "    <tr>\n",
       "      <th>1211</th>\n",
       "      <td>1515</td>\n",
       "      <td>98zqHfGhM7A</td>\n",
       "      <td>UgzYniHNaeBengJsyY94AaABAg</td>\n",
       "      <td>NaN</td>\n",
       "      <td>PP</td>\n",
       "      <td>...</td>\n",
       "      <td>offensive</td>\n",
       "      <td>11. individual</td>\n",
       "      <td>UgzYniHNaeBengJsyY94AaABAg.98EHvDRfZ9R98ER2aFVmyw</td>\n",
       "      <td>NaN</td>\n",
       "      <td>0</td>\n",
       "    </tr>\n",
       "  </tbody>\n",
       "</table>\n",
       "<p>1212 rows × 13 columns</p>\n",
       "</div>"
      ],
      "text/plain": [
       "      Unnamed: 0     video_id                  comment_id        target annotator  ...   type_reply     target_reply                                           reply_id      target.1 predicted_class\n",
       "0              0          NaN  Ugw3h-Rft03GK0sQyoB4AaABAg           NaN        HA  ...  appropriate              NaN  Ugw3h-Rft03GK0sQyoB4AaABAg.98MssOlE_zD98YOv6q7jxC           NaN               0\n",
       "1              2          NaN  UgwcIWd1Fw4UGiyHQZl4AaABAg           NaN        HA  ...    offensive        12. other  UgwcIWd1Fw4UGiyHQZl4AaABAg.98VmXXgKlbv98h-fsKmNVE           NaN               0\n",
       "2              3          NaN  UgwGH3n9-kMziH6MHJJ4AaABAg   5. religion        HA  ...  appropriate              NaN  UgwGH3n9-kMziH6MHJJ4AaABAg.98eCDJk381J98eCyDSbc_6   5. religion               2\n",
       "3              5          NaN  UgwL9uf1fl_LfsuMcxt4AaABAg           NaN        HA  ...    offensive  4. antisemitism  UgwL9uf1fl_LfsuMcxt4AaABAg.98_JpvVTnup98xY_oefc7G           NaN               2\n",
       "4              6          NaN  UgwlmDegdyuISJMwadp4AaABAg           NaN        HA  ...    offensive  4. antisemitism  UgwlmDegdyuISJMwadp4AaABAg.98PgBjc6PgS98tEgARWsAO           NaN               2\n",
       "...          ...          ...                         ...           ...       ...  ...          ...              ...                                                ...           ...             ...\n",
       "1207        1510  98zqHfGhM7A  UgzbueTCliJIBSJbvbd4AaABAg           NaN        PP  ...  appropriate              NaN  UgzbueTCliJIBSJbvbd4AaABAg.98E1WpTbw6998E6OZoCtCN           NaN               0\n",
       "1208        1512  98zqHfGhM7A  UgzOTAFni3o7UW1b71p4AaABAg  10. politics        PP  ...    offensive   11. individual  UgzOTAFni3o7UW1b71p4AaABAg.98DyKQJ4Vgq98V1kvB0-nY  10. politics               2\n",
       "1209        1513  98zqHfGhM7A  UgzTeEAW3ZrQ2c4dwDZ4AaABAg  10. politics        PP  ...    offensive     10. politics  UgzTeEAW3ZrQ2c4dwDZ4AaABAg.98EHx_DfZHC98Hz4iLaiyn  10. politics               2\n",
       "1210        1514  98zqHfGhM7A  UgztSHHRdIBAVga82yJ4AaABAg           NaN        PP  ...  appropriate              NaN  UgztSHHRdIBAVga82yJ4AaABAg.98FgQdv8t5r98FldH9ZVls           NaN               0\n",
       "1211        1515  98zqHfGhM7A  UgzYniHNaeBengJsyY94AaABAg           NaN        PP  ...    offensive   11. individual  UgzYniHNaeBengJsyY94AaABAg.98EHvDRfZ9R98ER2aFVmyw           NaN               0\n",
       "\n",
       "[1212 rows x 13 columns]"
      ]
     },
     "execution_count": 7,
     "metadata": {},
     "output_type": "execute_result"
    }
   ],
   "source": [
    "# Classify each text in the 'reply' column\n",
    "df['predicted_class'] = df['reply'].apply(classify_text)\n",
    "df#.head()\n",
    "\n"
   ]
  },
  {
   "cell_type": "code",
   "execution_count": 8,
   "id": "1fd22bbe",
   "metadata": {},
   "outputs": [
    {
     "data": {
      "text/plain": [
       "type_reply\n",
       "appropriate      928\n",
       "offensive        273\n",
       "inappropriate      8\n",
       "violent            3\n",
       "Name: count, dtype: int64"
      ]
     },
     "execution_count": 8,
     "metadata": {},
     "output_type": "execute_result"
    }
   ],
   "source": [
    "df[\"type_reply\"].value_counts()"
   ]
  },
  {
   "cell_type": "code",
   "execution_count": null,
   "id": "831fc661",
   "metadata": {},
   "outputs": [],
   "source": []
  },
  {
   "cell_type": "code",
   "execution_count": 9,
   "id": "412937de",
   "metadata": {},
   "outputs": [],
   "source": [
    "# Ensure a safe copy of the DataFrame\n",
    "df_safe = df.copy()\n",
    "\n",
    "# Mapping for new class names\n",
    "class_mapping = {\n",
    "\"appropriate\": 0,\n",
    "\"inappropriate\": 1,\n",
    "\"offensive\": 2,\n",
    "\"violent\": 3\n",
    "}\n",
    "\n",
    "# Map class names to numeric labels\n",
    "df_safe['type_reply'] = df_safe['type_reply'].map(class_mapping)\n",
    "\n",
    "# Convert the true and predicted labels to lists\n",
    "y_true = df_safe['type_reply'].tolist()"
   ]
  },
  {
   "cell_type": "code",
   "execution_count": 12,
   "id": "01886cbf",
   "metadata": {},
   "outputs": [
    {
     "data": {
      "text/plain": [
       "type_reply\n",
       "0    928\n",
       "2    273\n",
       "1      8\n",
       "3      3\n",
       "Name: count, dtype: int64"
      ]
     },
     "execution_count": 12,
     "metadata": {},
     "output_type": "execute_result"
    }
   ],
   "source": [
    "#df_safe['type_reply'].value_counts()"
   ]
  },
  {
   "cell_type": "code",
   "execution_count": 13,
   "id": "ff32245c",
   "metadata": {},
   "outputs": [],
   "source": [
    "import pandas as pd\n",
    "from sklearn.metrics import accuracy_score, precision_recall_fscore_support\n",
    "\n",
    "def calculate_metrics(df):\n",
    "    # Ensure a safe copy of the DataFrame\n",
    "    df_safe = df.copy()\n",
    "    \n",
    "    # Mapping for new class names\n",
    "    class_mapping = {\n",
    "        \"appropriate\": 0,\n",
    "        \"inappropriate\": 1,\n",
    "        \"offensive\": 2,\n",
    "        \"violent\": 3\n",
    "    }\n",
    "\n",
    "    # Map class names to numeric labels\n",
    "    df_safe['type_reply'] = df_safe['type_reply'].map(class_mapping)\n",
    "    \n",
    "    # Convert the true and predicted labels to lists\n",
    "    y_true = df_safe['type_reply'].tolist()\n",
    "    y_pred = df_safe['predicted_class'].tolist()\n",
    "    \n",
    "    # Ensure the lengths match\n",
    "    if len(y_pred) != len(y_true):\n",
    "        raise ValueError(\"The length of predicted and true labels does not match.\")\n",
    "    \n",
    "    # Calculate accuracy\n",
    "    accuracy = accuracy_score(y_true, y_pred)\n",
    "    \n",
    "    # Calculate precision, recall, and f1-score in macro mode\n",
    "    precision, recall, f1, _ = precision_recall_fscore_support(y_true, y_pred, average='macro')\n",
    "    \n",
    "    # Create a DataFrame to display the results horizontally\n",
    "    metrics_df = pd.DataFrame([{\n",
    "        'Accuracy': accuracy,\n",
    "        'Precision (Macro)': precision,\n",
    "        'Recall (Macro)': recall,\n",
    "        'F1 Score (Macro)': f1\n",
    "    }])\n",
    "\n",
    "    # Display the DataFrame\n",
    "    return metrics_df\n",
    "\n",
    "# Example usage:\n",
    "# Assuming df is your DataFrame with 'type_reply' and 'predicted_class' columns\n",
    "metrics_df = calculate_metrics(df)\n",
    "#print(metrics_df)\n"
   ]
  },
  {
   "cell_type": "code",
   "execution_count": 14,
   "id": "f5465a47",
   "metadata": {},
   "outputs": [
    {
     "data": {
      "text/html": [
       "<div>\n",
       "<style scoped>\n",
       "    .dataframe tbody tr th:only-of-type {\n",
       "        vertical-align: middle;\n",
       "    }\n",
       "\n",
       "    .dataframe tbody tr th {\n",
       "        vertical-align: top;\n",
       "    }\n",
       "\n",
       "    .dataframe thead th {\n",
       "        text-align: right;\n",
       "    }\n",
       "</style>\n",
       "<table border=\"1\" class=\"dataframe\">\n",
       "  <thead>\n",
       "    <tr style=\"text-align: right;\">\n",
       "      <th></th>\n",
       "      <th>Accuracy</th>\n",
       "      <th>Precision (Macro)</th>\n",
       "      <th>Recall (Macro)</th>\n",
       "      <th>F1 Score (Macro)</th>\n",
       "    </tr>\n",
       "  </thead>\n",
       "  <tbody>\n",
       "    <tr>\n",
       "      <th>0</th>\n",
       "      <td>0.833333</td>\n",
       "      <td>0.511356</td>\n",
       "      <td>0.437468</td>\n",
       "      <td>0.463262</td>\n",
       "    </tr>\n",
       "  </tbody>\n",
       "</table>\n",
       "</div>"
      ],
      "text/plain": [
       "   Accuracy  Precision (Macro)  Recall (Macro)  F1 Score (Macro)\n",
       "0  0.833333           0.511356        0.437468          0.463262"
      ]
     },
     "execution_count": 14,
     "metadata": {},
     "output_type": "execute_result"
    }
   ],
   "source": [
    "metrics_df"
   ]
  },
  {
   "cell_type": "code",
   "execution_count": null,
   "id": "ffa656a6",
   "metadata": {},
   "outputs": [
    {
     "ename": "NameError",
     "evalue": "name 'classwise_metrics' is not defined",
     "output_type": "error",
     "traceback": [
      "\u001b[1;31m---------------------------------------------------------------------------\u001b[0m",
      "\u001b[1;31mNameError\u001b[0m                                 Traceback (most recent call last)",
      "Cell \u001b[1;32mIn[38], line 1\u001b[0m\n\u001b[1;32m----> 1\u001b[0m \u001b[43mclasswise_metrics\u001b[49m\n",
      "\u001b[1;31mNameError\u001b[0m: name 'classwise_metrics' is not defined"
     ]
    }
   ],
   "source": [
    "classwise_metrics\n"
   ]
  },
  {
   "cell_type": "code",
   "execution_count": 31,
   "id": "b607c219",
   "metadata": {},
   "outputs": [
    {
     "ename": "NameError",
     "evalue": "name 'overall_metrics' is not defined",
     "output_type": "error",
     "traceback": [
      "\u001b[1;31m---------------------------------------------------------------------------\u001b[0m",
      "\u001b[1;31mNameError\u001b[0m                                 Traceback (most recent call last)",
      "Cell \u001b[1;32mIn[31], line 1\u001b[0m\n\u001b[1;32m----> 1\u001b[0m \u001b[43moverall_metrics\u001b[49m\n",
      "\u001b[1;31mNameError\u001b[0m: name 'overall_metrics' is not defined"
     ]
    }
   ],
   "source": [
    "overall_metrics"
   ]
  },
  {
   "cell_type": "code",
   "execution_count": null,
   "id": "e3fae167",
   "metadata": {},
   "outputs": [],
   "source": []
  },
  {
   "cell_type": "code",
   "execution_count": null,
   "id": "e336cc8c",
   "metadata": {},
   "outputs": [
    {
     "data": {
      "text/plain": [
       "predicted_class\n",
       "0    270\n",
       "2     41\n",
       "3      1\n",
       "Name: count, dtype: int64"
      ]
     },
     "execution_count": 27,
     "metadata": {},
     "output_type": "execute_result"
    }
   ],
   "source": []
  },
  {
   "cell_type": "code",
   "execution_count": 16,
   "id": "ecdec8ce",
   "metadata": {},
   "outputs": [
    {
     "data": {
      "text/plain": [
       "'offensive'"
      ]
     },
     "execution_count": 16,
     "metadata": {},
     "output_type": "execute_result"
    }
   ],
   "source": []
  },
  {
   "cell_type": "code",
   "execution_count": 17,
   "id": "d367243b-3b10-4ffc-97a6-2bbccb3666c7",
   "metadata": {},
   "outputs": [],
   "source": []
  },
  {
   "cell_type": "code",
   "execution_count": 20,
   "id": "1b9d1157-7f3f-451b-8dcf-93a449c990a9",
   "metadata": {},
   "outputs": [],
   "source": [
    "\n"
   ]
  },
  {
   "cell_type": "code",
   "execution_count": 21,
   "id": "fc184562-37a5-4474-b566-8294d02c6a55",
   "metadata": {},
   "outputs": [
    {
     "data": {
      "text/plain": [
       "0      0\n",
       "1      2\n",
       "2      2\n",
       "3      0\n",
       "4      0\n",
       "      ..\n",
       "307    0\n",
       "308    0\n",
       "309    0\n",
       "310    0\n",
       "311    0\n",
       "Name: type_reply, Length: 312, dtype: int64"
      ]
     },
     "execution_count": 21,
     "metadata": {},
     "output_type": "execute_result"
    }
   ],
   "source": [
    "df['type_reply']"
   ]
  },
  {
   "cell_type": "code",
   "execution_count": 22,
   "id": "8069737d",
   "metadata": {},
   "outputs": [
    {
     "name": "stdout",
     "output_type": "stream",
     "text": [
      "312\n",
      "312\n"
     ]
    }
   ],
   "source": []
  },
  {
   "cell_type": "code",
   "execution_count": 23,
   "id": "bbbf8aeb-f969-40c9-861a-34a3137b4dcd",
   "metadata": {},
   "outputs": [
    {
     "name": "stdout",
     "output_type": "stream",
     "text": [
      "Unique classes and their names:\n",
      "[0, 2, 3]\n",
      "['appropriate', 'offensive', 'violent']\n",
      "     Unnamed: 0.1  Unnamed: 0     video_id                  comment_id  \\\n",
      "0              31          31  4MfW_BrHwOU  Ugwnv8UnkM97dT4AxS54AaABAg   \n",
      "1              32          32  4MfW_BrHwOU  Ugx6PwrVvjxHuGK4PJd4AaABAg   \n",
      "2              33          33  4MfW_BrHwOU  UgxHHeuiFiyf82CxDjR4AaABAg   \n",
      "3              36          36  4MfW_BrHwOU  Ugyd1my4ilM4XnCemnZ4AaABAg   \n",
      "4              38          38  4MfW_BrHwOU  UgyvJng1wWbMDgRrR4Z4AaABAg   \n",
      "..            ...         ...          ...                         ...   \n",
      "307          1487        1487  SwWFhzgXgsk  Ugy2p57CwYiJNrcaMUl4AaABAg   \n",
      "308          1489        1489  SwWFhzgXgsk  Ugyb5TqkSJ-guP0RJc14AaABAg   \n",
      "309          1490        1490  SwWFhzgXgsk  UgyoZ1rl9hJ2coz333h4AaABAg   \n",
      "310          1492        1492  SwWFhzgXgsk  Ugz_BzNvWskEZ6yWxXx4AaABAg   \n",
      "311          1493        1493  SwWFhzgXgsk  Ugz3cNWoftrVFqWL51R4AaABAg   \n",
      "\n",
      "                                              reply_id target annotator  \\\n",
      "0    Ugwnv8UnkM97dT4AxS54AaABAg.98CIqOO-f2X98HEyAs4jq5    NaN        HA   \n",
      "1    Ugx6PwrVvjxHuGK4PJd4AaABAg.98CEraJdP_398HfBMkO_MP    NaN        HA   \n",
      "2    UgxHHeuiFiyf82CxDjR4AaABAg.98Bd1AJaaE698GYxYTkgzF    NaN        HA   \n",
      "3    Ugyd1my4ilM4XnCemnZ4AaABAg.98BpE78aIPm98CNFS_-8ri    NaN        HA   \n",
      "4    UgyvJng1wWbMDgRrR4Z4AaABAg.98BtWsXMJWd98BuCyWjaC7    NaN        HA   \n",
      "..                                                 ...    ...       ...   \n",
      "307  Ugy2p57CwYiJNrcaMUl4AaABAg.98PnSUjKHGR98QTAxTMTpn    NaN        KB   \n",
      "308  Ugyb5TqkSJ-guP0RJc14AaABAg.98Pdxw_S2_M98QFpDIsdM7    NaN        KB   \n",
      "309  UgyoZ1rl9hJ2coz333h4AaABAg.98PgbSb6naj98Pk0-240Ka    NaN        KB   \n",
      "310  Ugz_BzNvWskEZ6yWxXx4AaABAg.98Pxc1U7Cyp98QDH3m0TyL    NaN        KB   \n",
      "311  Ugz3cNWoftrVFqWL51R4AaABAg.98PdP7NEGJw98PfGArtdOM    NaN        KB   \n",
      "\n",
      "                                               comment    type_comment  \\\n",
      "0    Kate is a wonderful person.  She's doing a gre...  0. appropriate   \n",
      "1    Catherine has become a much loved  members of ...  0. appropriate   \n",
      "2              The Duchess has the most genuine smile😇  0. appropriate   \n",
      "3    Love Dutchess Catherine!  She is such a wonder...  0. appropriate   \n",
      "4    I am a big fan of the royal family, most of al...  0. appropriate   \n",
      "..                                                 ...             ...   \n",
      "307  I’m fasting and shouldn’t be watching this but...  0. appropriate   \n",
      "308  Nobody in the house can to me right now I'm wa...  0. appropriate   \n",
      "309        That pot has never been cleaned in its life  0. appropriate   \n",
      "310  She’s a proffesional cook. And she keeps the p...  0. appropriate   \n",
      "311  2 dislikes in 1 minute? Smh, why are people so...  0. appropriate   \n",
      "\n",
      "                                                 reply  ...  \\\n",
      "0    @Noel Smith This has to be the longest comment...  ...   \n",
      "1    It is nothing special about having children an...  ...   \n",
      "2              @Simply Me How rude, have some respect.  ...   \n",
      "3    As a fellow Canadian I completely agree with y...  ...   \n",
      "4        How would Know what Diana would feel she dead  ...   \n",
      "..                                                 ...  ...   \n",
      "307  It's okay if it's dairy and meat but bacon are...  ...   \n",
      "308  REPPIN TIME FITNESS love the video.... the dis...  ...   \n",
      "309  I have a pot just like that one and at first i...  ...   \n",
      "310  She's busy ok ok i knewDon't have any time for...  ...   \n",
      "311                                    I know right?!?  ...   \n",
      "\n",
      "                                  description_YT_video  \\\n",
      "0    The Duchess of Cambridge has spoken with midwi...   \n",
      "1    The Duchess of Cambridge has spoken with midwi...   \n",
      "2    The Duchess of Cambridge has spoken with midwi...   \n",
      "3    The Duchess of Cambridge has spoken with midwi...   \n",
      "4    The Duchess of Cambridge has spoken with midwi...   \n",
      "..                                                 ...   \n",
      "307  Winners of Tasty's Quarantine challenge, Kelly...   \n",
      "308  Winners of Tasty's Quarantine challenge, Kelly...   \n",
      "309  Winners of Tasty's Quarantine challenge, Kelly...   \n",
      "310  Winners of Tasty's Quarantine challenge, Kelly...   \n",
      "311  Winners of Tasty's Quarantine challenge, Kelly...   \n",
      "\n",
      "                                         tags_YT_video  \\\n",
      "0    ['kate middleton', 'prince william', 'royal fa...   \n",
      "1    ['kate middleton', 'prince william', 'royal fa...   \n",
      "2    ['kate middleton', 'prince william', 'royal fa...   \n",
      "3    ['kate middleton', 'prince william', 'royal fa...   \n",
      "4    ['kate middleton', 'prince william', 'royal fa...   \n",
      "..                                                 ...   \n",
      "307  ['K_fe', 'Tasty', 'breakfast', 'breakfast reci...   \n",
      "308  ['K_fe', 'Tasty', 'breakfast', 'breakfast reci...   \n",
      "309  ['K_fe', 'Tasty', 'breakfast', 'breakfast reci...   \n",
      "310  ['K_fe', 'Tasty', 'breakfast', 'breakfast reci...   \n",
      "311  ['K_fe', 'Tasty', 'breakfast', 'breakfast reci...   \n",
      "\n",
      "        channelTitle_YT_video  publishedAt_YT_video  \\\n",
      "0    The Royal Family Channel  2020-05-03T09:25:45Z   \n",
      "1    The Royal Family Channel  2020-05-03T09:25:45Z   \n",
      "2    The Royal Family Channel  2020-05-03T09:25:45Z   \n",
      "3    The Royal Family Channel  2020-05-03T09:25:45Z   \n",
      "4    The Royal Family Channel  2020-05-03T09:25:45Z   \n",
      "..                        ...                   ...   \n",
      "307                     Tasty  2020-05-08T20:00:15Z   \n",
      "308                     Tasty  2020-05-08T20:00:15Z   \n",
      "309                     Tasty  2020-05-08T20:00:15Z   \n",
      "310                     Tasty  2020-05-08T20:00:15Z   \n",
      "311                     Tasty  2020-05-08T20:00:15Z   \n",
      "\n",
      "    authorDisplayName_YT_reply  \\\n",
      "0            @rosannsupino5517   \n",
      "1                      @le7062   \n",
      "2               @Anastajia2005   \n",
      "3                    @lucyc319   \n",
      "4                @vivianebeget   \n",
      "..                         ...   \n",
      "307            @raifahuday5396   \n",
      "308                @lbriggsboy   \n",
      "309           @lydiafierro6848   \n",
      "310            @ahmadharis5488   \n",
      "311              @tmltuckerfan   \n",
      "\n",
      "                                  textDisplay_YT_reply likeCount_YT_reply  \\\n",
      "0    @Noel Smith This has to be the longest comment...                  0   \n",
      "1    It is nothing special about having children an...                  1   \n",
      "2          @@simplyme7382 How rude, have some respect.                  0   \n",
      "3    As a fellow Canadian I completely agree with y...                  7   \n",
      "4        How would Know what Diana would feel she dead                  7   \n",
      "..                                                 ...                ...   \n",
      "307  It&#39;s okay if it&#39;s dairy and meat but b...                  0   \n",
      "308  REPPIN TIME FITNESS love the video.... the dis...                  0   \n",
      "309  I have a pot just like that one and at first i...                  2   \n",
      "310  She&#39;s busy ok ok i knew<br>Don&#39;t have ...                  0   \n",
      "311                                    I know right?!?                  1   \n",
      "\n",
      "     publishedAt_YT_reply    updatedAt_YT_reply predicted_class  \n",
      "0    2020-05-05T13:46:53Z  2020-05-05T13:47:57Z               0  \n",
      "1    2020-05-05T17:44:45Z  2020-05-05T17:44:45Z               0  \n",
      "2    2020-05-05T07:22:19Z  2020-05-05T07:22:19Z               0  \n",
      "3    2020-05-03T16:23:05Z  2020-05-03T16:23:05Z               0  \n",
      "4    2020-05-03T12:00:36Z  2020-05-03T12:00:36Z               0  \n",
      "..                    ...                   ...             ...  \n",
      "307  2020-05-09T03:44:15Z  2020-05-09T03:44:15Z               0  \n",
      "308  2020-05-09T01:47:33Z  2020-05-09T01:47:33Z               0  \n",
      "309  2020-05-08T21:00:48Z  2020-05-08T21:00:48Z               0  \n",
      "310  2020-05-09T01:25:17Z  2020-05-09T01:25:17Z               0  \n",
      "311  2020-05-08T20:19:20Z  2020-05-08T20:19:20Z               0  \n",
      "\n",
      "[312 rows x 35 columns]\n",
      "Accuracy: 0.8814102564102564\n",
      "Precision: 0.5118940078289672\n",
      "Recall: 0.4972950478568456\n",
      "F1 Score: 0.5041646817663448\n",
      "Class-wise Metrics:\n",
      "         Class  Precision    Recall  F1 Score  Support\n",
      "0  appropriate   0.925926  0.936330  0.931099      267\n",
      "1    offensive   0.609756  0.555556  0.581395       45\n",
      "2      violent   0.000000  0.000000  0.000000        0\n",
      "Overall Metrics:\n",
      "      Metric     Value\n",
      "0   Accuracy  0.881410\n",
      "1  Precision  0.511894\n",
      "2     Recall  0.497295\n",
      "3   F1 Score  0.504165\n"
     ]
    },
    {
     "name": "stderr",
     "output_type": "stream",
     "text": [
      "c:\\Users\\aboeck\\AppData\\Local\\anaconda3\\envs\\new_MA\\lib\\site-packages\\sklearn\\metrics\\_classification.py:1517: UndefinedMetricWarning: Recall is ill-defined and being set to 0.0 in labels with no true samples. Use `zero_division` parameter to control this behavior.\n",
      "  _warn_prf(average, modifier, f\"{metric.capitalize()} is\", len(result))\n",
      "c:\\Users\\aboeck\\AppData\\Local\\anaconda3\\envs\\new_MA\\lib\\site-packages\\sklearn\\metrics\\_classification.py:1517: UndefinedMetricWarning: Recall is ill-defined and being set to 0.0 in labels with no true samples. Use `zero_division` parameter to control this behavior.\n",
      "  _warn_prf(average, modifier, f\"{metric.capitalize()} is\", len(result))\n"
     ]
    }
   ],
   "source": []
  },
  {
   "cell_type": "code",
   "execution_count": 24,
   "id": "e12cdb7d-d485-4230-893e-19d2f316de3f",
   "metadata": {},
   "outputs": [
    {
     "data": {
      "text/html": [
       "<div>\n",
       "<style scoped>\n",
       "    .dataframe tbody tr th:only-of-type {\n",
       "        vertical-align: middle;\n",
       "    }\n",
       "\n",
       "    .dataframe tbody tr th {\n",
       "        vertical-align: top;\n",
       "    }\n",
       "\n",
       "    .dataframe thead th {\n",
       "        text-align: right;\n",
       "    }\n",
       "</style>\n",
       "<table border=\"1\" class=\"dataframe\">\n",
       "  <thead>\n",
       "    <tr style=\"text-align: right;\">\n",
       "      <th></th>\n",
       "      <th>Class</th>\n",
       "      <th>Precision</th>\n",
       "      <th>Recall</th>\n",
       "      <th>F1 Score</th>\n",
       "      <th>Support</th>\n",
       "    </tr>\n",
       "  </thead>\n",
       "  <tbody>\n",
       "    <tr>\n",
       "      <th>0</th>\n",
       "      <td>appropriate</td>\n",
       "      <td>0.925926</td>\n",
       "      <td>0.936330</td>\n",
       "      <td>0.931099</td>\n",
       "      <td>267</td>\n",
       "    </tr>\n",
       "    <tr>\n",
       "      <th>1</th>\n",
       "      <td>offensive</td>\n",
       "      <td>0.609756</td>\n",
       "      <td>0.555556</td>\n",
       "      <td>0.581395</td>\n",
       "      <td>45</td>\n",
       "    </tr>\n",
       "    <tr>\n",
       "      <th>2</th>\n",
       "      <td>violent</td>\n",
       "      <td>0.000000</td>\n",
       "      <td>0.000000</td>\n",
       "      <td>0.000000</td>\n",
       "      <td>0</td>\n",
       "    </tr>\n",
       "  </tbody>\n",
       "</table>\n",
       "</div>"
      ],
      "text/plain": [
       "         Class  Precision    Recall  F1 Score  Support\n",
       "0  appropriate   0.925926  0.936330  0.931099      267\n",
       "1    offensive   0.609756  0.555556  0.581395       45\n",
       "2      violent   0.000000  0.000000  0.000000        0"
      ]
     },
     "execution_count": 24,
     "metadata": {},
     "output_type": "execute_result"
    }
   ],
   "source": []
  },
  {
   "cell_type": "code",
   "execution_count": 25,
   "id": "4256eb9a-a055-43ef-9d14-06f0a0812270",
   "metadata": {},
   "outputs": [
    {
     "data": {
      "text/html": [
       "<div>\n",
       "<style scoped>\n",
       "    .dataframe tbody tr th:only-of-type {\n",
       "        vertical-align: middle;\n",
       "    }\n",
       "\n",
       "    .dataframe tbody tr th {\n",
       "        vertical-align: top;\n",
       "    }\n",
       "\n",
       "    .dataframe thead th {\n",
       "        text-align: right;\n",
       "    }\n",
       "</style>\n",
       "<table border=\"1\" class=\"dataframe\">\n",
       "  <thead>\n",
       "    <tr style=\"text-align: right;\">\n",
       "      <th></th>\n",
       "      <th>Metric</th>\n",
       "      <th>Value</th>\n",
       "    </tr>\n",
       "  </thead>\n",
       "  <tbody>\n",
       "    <tr>\n",
       "      <th>0</th>\n",
       "      <td>Accuracy</td>\n",
       "      <td>0.881410</td>\n",
       "    </tr>\n",
       "    <tr>\n",
       "      <th>1</th>\n",
       "      <td>Precision</td>\n",
       "      <td>0.511894</td>\n",
       "    </tr>\n",
       "    <tr>\n",
       "      <th>2</th>\n",
       "      <td>Recall</td>\n",
       "      <td>0.497295</td>\n",
       "    </tr>\n",
       "    <tr>\n",
       "      <th>3</th>\n",
       "      <td>F1 Score</td>\n",
       "      <td>0.504165</td>\n",
       "    </tr>\n",
       "  </tbody>\n",
       "</table>\n",
       "</div>"
      ],
      "text/plain": [
       "      Metric     Value\n",
       "0   Accuracy  0.881410\n",
       "1  Precision  0.511894\n",
       "2     Recall  0.497295\n",
       "3   F1 Score  0.504165"
      ]
     },
     "execution_count": 25,
     "metadata": {},
     "output_type": "execute_result"
    }
   ],
   "source": []
  },
  {
   "cell_type": "code",
   "execution_count": null,
   "id": "32cff3ec",
   "metadata": {},
   "outputs": [],
   "source": []
  },
  {
   "cell_type": "code",
   "execution_count": null,
   "id": "d623f821",
   "metadata": {},
   "outputs": [],
   "source": []
  },
  {
   "cell_type": "code",
   "execution_count": null,
   "id": "aa692675",
   "metadata": {},
   "outputs": [],
   "source": []
  }
 ],
 "metadata": {
  "kernelspec": {
   "display_name": "Python 3 (ipykernel)",
   "language": "python",
   "name": "python3"
  },
  "language_info": {
   "codemirror_mode": {
    "name": "ipython",
    "version": 3
   },
   "file_extension": ".py",
   "mimetype": "text/x-python",
   "name": "python",
   "nbconvert_exporter": "python",
   "pygments_lexer": "ipython3",
   "version": "3.10.14"
  }
 },
 "nbformat": 4,
 "nbformat_minor": 5
}
